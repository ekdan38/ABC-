{
 "cells": [
  {
   "cell_type": "code",
   "execution_count": 1,
   "id": "52c91943",
   "metadata": {},
   "outputs": [],
   "source": [
    "import pandas as pd\n",
    "import matplotlib.pyplot as plt\n",
    "from matplotlib import font_manager, rc\n",
    "font_name = font_manager.FontProperties(fname=\"c:/Windows/Fonts/malgun.ttf\").get_name()\n",
    "rc('font', family=font_name)"
   ]
  },
  {
   "cell_type": "code",
   "execution_count": 2,
   "id": "2a55ab01",
   "metadata": {},
   "outputs": [],
   "source": [
    "osaeg1_UE_df = pd.read_excel(\"C:/Users/홍정화/Desktop/abc_Camp_BigData/osaeg1_Utilization_Efficiency.xlsx\")\n",
    "osaeg2_UE_df = pd.read_excel(\"C:/Users/홍정화/Desktop/abc_Camp_BigData/osaeg2_Utilization_Efficiency.xlsx\")\n",
    "unam_UE_df = pd.read_excel(\"C:/Users/홍정화/Desktop/abc_Camp_BigData/unam_Utilization_Efficiency.xlsx\")\n",
    "osancityhall_UE_df = pd.read_excel(\"C:/Users/홍정화/Desktop/abc_Camp_BigData/osancityhall_Utilization_Efficiency.xlsx\")"
   ]
  },
  {
   "cell_type": "code",
   "execution_count": 3,
   "id": "f8986722",
   "metadata": {},
   "outputs": [],
   "source": [
    "Utilization_Efficiency_df = pd.DataFrame()\n",
    "Utilization_Efficiency_df[\"오색시장 제1공영주차장\"] = osaeg1_UE_df\n",
    "Utilization_Efficiency_df[\"오색시장 제2공영주차장\"] = osaeg2_UE_df\n",
    "Utilization_Efficiency_df[\"오산시 부설주차장\"] = osancityhall_UE_df\n",
    "Utilization_Efficiency_df[\"운암공영주차장\"] = unam_UE_df"
   ]
  },
  {
   "cell_type": "code",
   "execution_count": 4,
   "id": "fe86393a",
   "metadata": {},
   "outputs": [
    {
     "data": {
      "text/html": [
       "<div>\n",
       "<style scoped>\n",
       "    .dataframe tbody tr th:only-of-type {\n",
       "        vertical-align: middle;\n",
       "    }\n",
       "\n",
       "    .dataframe tbody tr th {\n",
       "        vertical-align: top;\n",
       "    }\n",
       "\n",
       "    .dataframe thead th {\n",
       "        text-align: right;\n",
       "    }\n",
       "</style>\n",
       "<table border=\"1\" class=\"dataframe\">\n",
       "  <thead>\n",
       "    <tr style=\"text-align: right;\">\n",
       "      <th></th>\n",
       "      <th>오색시장 제1공영주차장</th>\n",
       "      <th>오색시장 제2공영주차장</th>\n",
       "      <th>오산시 부설주차장</th>\n",
       "      <th>운암공영주차장</th>\n",
       "    </tr>\n",
       "  </thead>\n",
       "  <tbody>\n",
       "    <tr>\n",
       "      <th>0</th>\n",
       "      <td>3.55</td>\n",
       "      <td>4.56</td>\n",
       "      <td>5.05</td>\n",
       "      <td>2.85</td>\n",
       "    </tr>\n",
       "  </tbody>\n",
       "</table>\n",
       "</div>"
      ],
      "text/plain": [
       "   오색시장 제1공영주차장  오색시장 제2공영주차장  오산시 부설주차장  운암공영주차장\n",
       "0          3.55          4.56       5.05     2.85"
      ]
     },
     "execution_count": 4,
     "metadata": {},
     "output_type": "execute_result"
    }
   ],
   "source": [
    "Utilization_Efficiency_df"
   ]
  },
  {
   "cell_type": "code",
   "execution_count": 5,
   "id": "f0c78d39",
   "metadata": {},
   "outputs": [
    {
     "data": {
      "text/html": [
       "<div>\n",
       "<style scoped>\n",
       "    .dataframe tbody tr th:only-of-type {\n",
       "        vertical-align: middle;\n",
       "    }\n",
       "\n",
       "    .dataframe tbody tr th {\n",
       "        vertical-align: top;\n",
       "    }\n",
       "\n",
       "    .dataframe thead th {\n",
       "        text-align: right;\n",
       "    }\n",
       "</style>\n",
       "<table border=\"1\" class=\"dataframe\">\n",
       "  <thead>\n",
       "    <tr style=\"text-align: right;\">\n",
       "      <th></th>\n",
       "    </tr>\n",
       "  </thead>\n",
       "  <tbody>\n",
       "    <tr>\n",
       "      <th>오색시장 제1공영주차장</th>\n",
       "    </tr>\n",
       "    <tr>\n",
       "      <th>오색시장 제2공영주차장</th>\n",
       "    </tr>\n",
       "    <tr>\n",
       "      <th>오산시 부설주차장</th>\n",
       "    </tr>\n",
       "    <tr>\n",
       "      <th>운암공영주차장</th>\n",
       "    </tr>\n",
       "  </tbody>\n",
       "</table>\n",
       "</div>"
      ],
      "text/plain": [
       "Empty DataFrame\n",
       "Columns: []\n",
       "Index: [오색시장 제1공영주차장, 오색시장 제2공영주차장, 오산시 부설주차장, 운암공영주차장]"
      ]
     },
     "execution_count": 5,
     "metadata": {},
     "output_type": "execute_result"
    }
   ],
   "source": [
    "Utilization_Efficiency_sum_df = pd.DataFrame(index = [\"오색시장 제1공영주차장\",\"오색시장 제2공영주차장\",\n",
    "                                                  \"오산시 부설주차장\",\"운암공영주차장\"])\n",
    "Utilization_Efficiency_sum_df"
   ]
  },
  {
   "cell_type": "code",
   "execution_count": 6,
   "id": "9a899e7e",
   "metadata": {},
   "outputs": [],
   "source": [
    "Utilization_Efficiency_list = []\n",
    "def Utilization_Efficiency(parkingname):\n",
    "        a = Utilization_Efficiency_df[parkingname][0]\n",
    "        Utilization_Efficiency_list.append(a)"
   ]
  },
  {
   "cell_type": "code",
   "execution_count": 7,
   "id": "06378ef3",
   "metadata": {},
   "outputs": [],
   "source": [
    "Utilization_Efficiency(\"오색시장 제1공영주차장\")\n",
    "Utilization_Efficiency(\"오색시장 제2공영주차장\")\n",
    "Utilization_Efficiency(\"오산시 부설주차장\")\n",
    "Utilization_Efficiency(\"운암공영주차장\")"
   ]
  },
  {
   "cell_type": "code",
   "execution_count": 8,
   "id": "ce18d396",
   "metadata": {},
   "outputs": [
    {
     "data": {
      "text/plain": [
       "[3.55, 4.56, 5.05, 2.85]"
      ]
     },
     "execution_count": 8,
     "metadata": {},
     "output_type": "execute_result"
    }
   ],
   "source": [
    "Utilization_Efficiency_list"
   ]
  },
  {
   "cell_type": "code",
   "execution_count": 9,
   "id": "2fbc82a5",
   "metadata": {},
   "outputs": [],
   "source": [
    "Utilization_Efficiency_sum_df[\"이용효율\"]=Utilization_Efficiency_list"
   ]
  },
  {
   "cell_type": "code",
   "execution_count": 10,
   "id": "f3e61a23",
   "metadata": {},
   "outputs": [
    {
     "data": {
      "text/html": [
       "<div>\n",
       "<style scoped>\n",
       "    .dataframe tbody tr th:only-of-type {\n",
       "        vertical-align: middle;\n",
       "    }\n",
       "\n",
       "    .dataframe tbody tr th {\n",
       "        vertical-align: top;\n",
       "    }\n",
       "\n",
       "    .dataframe thead th {\n",
       "        text-align: right;\n",
       "    }\n",
       "</style>\n",
       "<table border=\"1\" class=\"dataframe\">\n",
       "  <thead>\n",
       "    <tr style=\"text-align: right;\">\n",
       "      <th></th>\n",
       "      <th>이용효율</th>\n",
       "    </tr>\n",
       "  </thead>\n",
       "  <tbody>\n",
       "    <tr>\n",
       "      <th>오색시장 제1공영주차장</th>\n",
       "      <td>3.55</td>\n",
       "    </tr>\n",
       "    <tr>\n",
       "      <th>오색시장 제2공영주차장</th>\n",
       "      <td>4.56</td>\n",
       "    </tr>\n",
       "    <tr>\n",
       "      <th>오산시 부설주차장</th>\n",
       "      <td>5.05</td>\n",
       "    </tr>\n",
       "    <tr>\n",
       "      <th>운암공영주차장</th>\n",
       "      <td>2.85</td>\n",
       "    </tr>\n",
       "  </tbody>\n",
       "</table>\n",
       "</div>"
      ],
      "text/plain": [
       "              이용효율\n",
       "오색시장 제1공영주차장  3.55\n",
       "오색시장 제2공영주차장  4.56\n",
       "오산시 부설주차장     5.05\n",
       "운암공영주차장       2.85"
      ]
     },
     "execution_count": 10,
     "metadata": {},
     "output_type": "execute_result"
    }
   ],
   "source": [
    "Utilization_Efficiency_sum_df"
   ]
  },
  {
   "cell_type": "code",
   "execution_count": 11,
   "id": "cc34067b",
   "metadata": {
    "scrolled": true
   },
   "outputs": [
    {
     "data": {
      "image/png": "[encoded data removed]",
      "text/plain": [
       "<Figure size 432x288 with 1 Axes>"
      ]
     },
     "metadata": {
      "needs_background": "light"
     },
     "output_type": "display_data"
    }
   ],
   "source": [
    "plt.rc('axes', titlesize=20)\n",
    "plt.rc('xtick', labelsize=12)\n",
    "plt.rc('ytick', labelsize=12) \n",
    "\n",
    "ax = Utilization_Efficiency_sum_df.plot(kind='barh', title=\"주차이용 효율\", rot=0)\n",
    "for p in ax.patches:\n",
    "    x, y, width, height = p.get_bbox().bounds\n",
    "    ax.text(width*1.01, y+height/2, \"%.1f \"%(width), va='center')"
   ]
  }
 ],
 "metadata": {
  "kernelspec": {
   "display_name": "Python 3 (ipykernel)",
   "language": "python",
   "name": "python3"
  },
  "language_info": {
   "codemirror_mode": {
    "name": "ipython",
    "version": 3
   },
   "file_extension": ".py",
   "mimetype": "text/x-python",
   "name": "python",
   "nbconvert_exporter": "python",
   "pygments_lexer": "ipython3",
   "version": "3.9.7"
  }
 },
 "nbformat": 4,
 "nbformat_minor": 5
}
